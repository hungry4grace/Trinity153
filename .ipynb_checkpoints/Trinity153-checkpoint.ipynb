{
 "cells": [
  {
   "cell_type": "code",
   "execution_count": 48,
   "metadata": {},
   "outputs": [
    {
     "name": "stdout",
     "output_type": "stream",
     "text": [
      "index: [  0.   1. 371. ... 370. 371. 153.]\n",
      "steps: [ 0.  2.  8. ... 10.  6.  5.]\n",
      "End\n"
     ]
    },
    {
     "data": {
      "text/plain": [
       "'The smallest number to reach 153 in 16 cycles will be more than \\n1061042524005486968, so not advisable to try it. \\n'"
      ]
     },
     "execution_count": 48,
     "metadata": {},
     "output_type": "execute_result"
    }
   ],
   "source": [
    "import numpy as np\n",
    "\n",
    "drawing = turtle.Turtle()\n",
    "drawing.speed(10000)\n",
    "pwr = 3\n",
    "\n",
    "max_n = 1000000\n",
    "converge_index = np.zeros(max_n) #like 153, 370, 371, 1\n",
    "converge_steps = np.zeros(max_n) #the number of steps to come to the convergence point\n",
    "\n",
    "def CubicAllDigits(n):\n",
    "    r = 0\n",
    "    for i in str(n):\n",
    "        # print(\"i=\", i, \"^3=\", Cubic(int(i)))\n",
    "        r += int(i) ** pwr\n",
    "    return (r)\n",
    "\n",
    "def MultipleOf3P(n):\n",
    "    if n % pwr == 0.0:\n",
    "        return True\n",
    "    return False\n",
    "\n",
    "def main(s1, s2, max_steps):\n",
    "    global converge_index\n",
    "    global converge_values\n",
    "    i1 = int(s1)\n",
    "    i2 = int(s2)\n",
    "    for i in range(i1, i2):\n",
    "        steps = 1\n",
    "\n",
    "        j = CubicAllDigits(i)\n",
    "        prevj = j\n",
    "\n",
    "        while True:\n",
    "            steps = steps + 1\n",
    "            j = CubicAllDigits(j)\n",
    "            #print(\"Steps\", steps, \"=>\", j)\n",
    "            if j == prevj:\n",
    "                converge_index[i] = j\n",
    "                converge_steps[i] = steps\n",
    "                break\n",
    "\n",
    "            if steps > max_steps: break\n",
    "            prevj = j\n",
    "\n",
    "main(str(1), str(max_n), 30)\n",
    "\n",
    "print(\"index:\", converge_index)\n",
    "print(\"steps:\", converge_steps)\n",
    "\n",
    "'''Very large numbers\n",
    "main(str(9999**1000),\n",
    "     str(9999**1000)+\"100\",16)\n",
    "'''\n",
    "\n",
    "print(\"End\")\n",
    "\n",
    "'''The smallest number to reach 153 in 16 cycles will be more than \n",
    "1061042524005486968, so not advisable to try it. \n",
    "'''\n",
    "\n",
    "\n"
   ]
  },
  {
   "cell_type": "code",
   "execution_count": 50,
   "metadata": {},
   "outputs": [
    {
     "data": {
      "text/plain": [
       "333333"
      ]
     },
     "execution_count": 50,
     "metadata": {},
     "output_type": "execute_result"
    }
   ],
   "source": [
    "converge_index[converge_index == 153].size"
   ]
  },
  {
   "cell_type": "code",
   "execution_count": 52,
   "metadata": {},
   "outputs": [
    {
     "data": {
      "text/plain": [
       "295281"
      ]
     },
     "execution_count": 52,
     "metadata": {},
     "output_type": "execute_result"
    }
   ],
   "source": [
    "converge_index[converge_index == 371].size"
   ]
  },
  {
   "cell_type": "code",
   "execution_count": 51,
   "metadata": {},
   "outputs": [
    {
     "data": {
      "text/plain": [
       "181041"
      ]
     },
     "execution_count": 51,
     "metadata": {},
     "output_type": "execute_result"
    }
   ],
   "source": [
    "converge_index[converge_index == 370].size"
   ]
  },
  {
   "cell_type": "code",
   "execution_count": 55,
   "metadata": {},
   "outputs": [
    {
     "data": {
      "text/plain": [
       "38052"
      ]
     },
     "execution_count": 55,
     "metadata": {},
     "output_type": "execute_result"
    }
   ],
   "source": [
    "converge_index[converge_index == 407].size"
   ]
  },
  {
   "cell_type": "code",
   "execution_count": 54,
   "metadata": {},
   "outputs": [
    {
     "data": {
      "text/plain": [
       "137341"
      ]
     },
     "execution_count": 54,
     "metadata": {},
     "output_type": "execute_result"
    }
   ],
   "source": [
    "converge_index[converge_index == 0].size"
   ]
  },
  {
   "cell_type": "code",
   "execution_count": 53,
   "metadata": {},
   "outputs": [
    {
     "data": {
      "text/plain": [
       "14952"
      ]
     },
     "execution_count": 53,
     "metadata": {},
     "output_type": "execute_result"
    }
   ],
   "source": [
    "converge_index[converge_index == 1].size"
   ]
  },
  {
   "cell_type": "markdown",
   "metadata": {},
   "source": [
    "### The max number of steps to converge to 153 is 15 for numbers from 0 to 1M"
   ]
  },
  {
   "cell_type": "code",
   "execution_count": 61,
   "metadata": {},
   "outputs": [
    {
     "data": {
      "text/plain": [
       "15.0"
      ]
     },
     "execution_count": 61,
     "metadata": {},
     "output_type": "execute_result"
    }
   ],
   "source": [
    "converge_steps.max()"
   ]
  },
  {
   "cell_type": "code",
   "execution_count": null,
   "metadata": {},
   "outputs": [],
   "source": [
    "### There are 2310 numbers that requires 15 steps to converge to 153"
   ]
  },
  {
   "cell_type": "code",
   "execution_count": 64,
   "metadata": {},
   "outputs": [
    {
     "data": {
      "text/plain": [
       "2310"
      ]
     },
     "execution_count": 64,
     "metadata": {},
     "output_type": "execute_result"
    }
   ],
   "source": [
    "converge_steps[converge_steps==15].size"
   ]
  },
  {
   "cell_type": "code",
   "execution_count": 56,
   "metadata": {},
   "outputs": [
    {
     "data": {
      "text/plain": [
       "153.0"
      ]
     },
     "execution_count": 56,
     "metadata": {},
     "output_type": "execute_result"
    }
   ],
   "source": [
    "converge_index[6]"
   ]
  },
  {
   "cell_type": "code",
   "execution_count": 57,
   "metadata": {},
   "outputs": [
    {
     "data": {
      "text/plain": [
       "407.0"
      ]
     },
     "execution_count": 57,
     "metadata": {},
     "output_type": "execute_result"
    }
   ],
   "source": [
    "converge_index[47]"
   ]
  },
  {
   "cell_type": "code",
   "execution_count": 58,
   "metadata": {},
   "outputs": [
    {
     "data": {
      "text/plain": [
       "407.0"
      ]
     },
     "execution_count": 58,
     "metadata": {},
     "output_type": "execute_result"
    }
   ],
   "source": [
    "converge_index[704]"
   ]
  },
  {
   "cell_type": "markdown",
   "metadata": {},
   "source": [
    "### there are 13% of numbers that can converge to 153 in no steps, like 1530, 5301, etc."
   ]
  },
  {
   "cell_type": "code",
   "execution_count": 70,
   "metadata": {},
   "outputs": [
    {
     "data": {
      "text/plain": [
       "137341"
      ]
     },
     "execution_count": 70,
     "metadata": {},
     "output_type": "execute_result"
    }
   ],
   "source": [
    "converge_steps[converge_steps==0].size"
   ]
  },
  {
   "cell_type": "code",
   "execution_count": null,
   "metadata": {},
   "outputs": [],
   "source": []
  }
 ],
 "metadata": {
  "kernelspec": {
   "display_name": "Python 3",
   "language": "python",
   "name": "python3"
  },
  "language_info": {
   "codemirror_mode": {
    "name": "ipython",
    "version": 3
   },
   "file_extension": ".py",
   "mimetype": "text/x-python",
   "name": "python",
   "nbconvert_exporter": "python",
   "pygments_lexer": "ipython3",
   "version": "3.7.4"
  }
 },
 "nbformat": 4,
 "nbformat_minor": 4
}
