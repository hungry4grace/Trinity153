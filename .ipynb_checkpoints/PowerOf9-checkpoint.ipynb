{
 "cells": [
  {
   "cell_type": "code",
   "execution_count": 14,
   "metadata": {},
   "outputs": [
    {
     "name": "stdout",
     "output_type": "stream",
     "text": [
      "End\n"
     ]
    }
   ],
   "source": [
    "import numpy as np\n",
    "import math\n",
    "\n",
    "max_n = 10**6\n",
    "converge_index = np.zeros(max_n) #like 153, 370, 371, 1\n",
    "converge_steps = np.zeros(max_n) #the number of steps to come to the convergence point\n",
    "pwr = 5\n",
    "\n",
    "def PowerUpAllDigits(n):\n",
    "    r = 0\n",
    "    for i in str(n):\n",
    "        # print(\"i=\", i, \"^3=\", Cubic(int(i)))\n",
    "        r += int(i) ** pwr\n",
    "    return (r)\n",
    "\n",
    "def convertAllNum(s1, s2, max_steps):\n",
    "    global converge_index\n",
    "    global converge_values\n",
    "    i1 = int(s1)\n",
    "    i2 = int(s2)\n",
    "    for i in range(i1, i2):\n",
    "        steps = 1\n",
    "\n",
    "        j = PowerUpAllDigits(i)\n",
    "        prevj = j\n",
    "\n",
    "        while True:\n",
    "            steps = steps + 1\n",
    "            j = PowerUpAllDigits(j)\n",
    "            #print(\"Steps\", steps, \"=>\", j)\n",
    "            if j == prevj:\n",
    "                converge_index[i] = j\n",
    "                converge_steps[i] = steps-1\n",
    "                break\n",
    "\n",
    "            if steps > max_steps: \n",
    "                converge_steps[i] = 0\n",
    "                break\n",
    "            prevj = j\n",
    "\n",
    "convertAllNum(str(1), str(max_n), 100)\n",
    "\n",
    "#print(\"index:\", converge_index)\n",
    "#print(\"steps:\", converge_steps)\n",
    "\n",
    "print(\"End\")"
   ]
  },
  {
   "cell_type": "code",
   "execution_count": 15,
   "metadata": {},
   "outputs": [
    {
     "name": "stdout",
     "output_type": "stream",
     "text": [
      "{194979.0, 4151.0, 4150.0, 92727.0, 54748.0, 93084.0}\n",
      "There are 120 numbers that converge to 194979\n",
      "There are 330 numbers that converge to 4151\n",
      "There are 510 numbers that converge to 4150\n",
      "There are 180 numbers that converge to 92727\n",
      "There are 5820 numbers that converge to 54748\n",
      "There are 560 numbers that converge to 93084\n"
     ]
    }
   ],
   "source": [
    "converged_set = set()\n",
    "for i in converge_index[converge_index > 1]:\n",
    "    converged_set.add(i)\n",
    "print(converged_set)\n",
    "for i in converged_set: \n",
    "    print(\"There are\",\n",
    "          converge_index[converge_index == i].size, \n",
    "          \"numbers that converge to\",int(i))"
   ]
  },
  {
   "cell_type": "code",
   "execution_count": 18,
   "metadata": {},
   "outputs": [
    {
     "data": {
      "text/plain": [
       "194979"
      ]
     },
     "execution_count": 18,
     "metadata": {},
     "output_type": "execute_result"
    }
   ],
   "source": [
    "PowerUpAllDigits(194979)"
   ]
  },
  {
   "cell_type": "code",
   "execution_count": null,
   "metadata": {},
   "outputs": [],
   "source": []
  }
 ],
 "metadata": {
  "kernelspec": {
   "display_name": "Python 3",
   "language": "python",
   "name": "python3"
  },
  "language_info": {
   "codemirror_mode": {
    "name": "ipython",
    "version": 3
   },
   "file_extension": ".py",
   "mimetype": "text/x-python",
   "name": "python",
   "nbconvert_exporter": "python",
   "pygments_lexer": "ipython3",
   "version": "3.7.4"
  }
 },
 "nbformat": 4,
 "nbformat_minor": 4
}
