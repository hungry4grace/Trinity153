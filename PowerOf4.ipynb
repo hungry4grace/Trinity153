{
 "cells": [
  {
   "cell_type": "code",
   "execution_count": 179,
   "metadata": {},
   "outputs": [
    {
     "name": "stdout",
     "output_type": "stream",
     "text": [
      "End\n"
     ]
    },
    {
     "data": {
      "text/plain": [
       "'The smallest number to reach 153 in 16 cycles will be more than \\n1061042524005486968, so not advisable to try it. \\n'"
      ]
     },
     "execution_count": 179,
     "metadata": {},
     "output_type": "execute_result"
    }
   ],
   "source": [
    "import numpy as np\n",
    "import math\n",
    "\n",
    "max_n = 10**7\n",
    "converge_index = np.zeros(max_n) #like 153, 370, 371, 1\n",
    "converge_steps = np.zeros(max_n) #the number of steps to come to the convergence point\n",
    "pwr = 4\n",
    "\n",
    "def PowerUpAllDigits(n):\n",
    "    r = 0\n",
    "    for i in str(n):\n",
    "        # print(\"i=\", i, \"^3=\", Cubic(int(i)))\n",
    "        r += int(i) ** pwr\n",
    "    return (r)\n",
    "\n",
    "def convertAllNum(s1, s2, max_steps):\n",
    "    global converge_index\n",
    "    global converge_values\n",
    "    i1 = int(s1)\n",
    "    i2 = int(s2)\n",
    "    for i in range(i1, i2):\n",
    "        steps = 1\n",
    "\n",
    "        j = PowerUpAllDigits(i)\n",
    "        prevj = j\n",
    "\n",
    "        while True:\n",
    "            steps = steps + 1\n",
    "            j = PowerUpAllDigits(j)\n",
    "            #print(\"Steps\", steps, \"=>\", j)\n",
    "            if j == prevj:\n",
    "                converge_index[i] = j\n",
    "                converge_steps[i] = steps-1\n",
    "                break\n",
    "\n",
    "            if steps > max_steps: \n",
    "                converge_steps[i] = 0\n",
    "                break\n",
    "            prevj = j\n",
    "\n",
    "convertAllNum(str(1), str(max_n), 100)\n",
    "\n",
    "#print(\"index:\", converge_index)\n",
    "#print(\"steps:\", converge_steps)\n",
    "\n",
    "print(\"End\")"
   ]
  },
  {
   "cell_type": "code",
   "execution_count": 187,
   "metadata": {},
   "outputs": [
    {
     "name": "stdout",
     "output_type": "stream",
     "text": [
      "{8208.0, 1634.0, 9474.0}\n",
      "There are 618801 numbers that converge to 8208\n",
      "There are 34965 numbers that converge to 1634\n",
      "There are 25095 numbers that converge to 9474\n"
     ]
    }
   ],
   "source": [
    "converged_set = set()\n",
    "for i in converge_index[converge_index > 1]:\n",
    "    converged_set.add(i)\n",
    "print(converged_set)\n",
    "for i in converged_set: \n",
    "    print(\"There are\",\n",
    "          converge_index[converge_index == i].size, \n",
    "          \"numbers that converge to\",int(i))"
   ]
  },
  {
   "cell_type": "code",
   "execution_count": 182,
   "metadata": {},
   "outputs": [],
   "source": [
    "import matplotlib.pyplot as plt\n",
    "%matplotlib inline"
   ]
  },
  {
   "cell_type": "markdown",
   "metadata": {},
   "source": [
    "### %matplotlib inline <= needed because we are doing this in the Jupyter lab, and we want it to display the plot inline"
   ]
  },
  {
   "cell_type": "code",
   "execution_count": 183,
   "metadata": {},
   "outputs": [
    {
     "data": {
      "image/png": "[encoded data removed]",
      "text/plain": [
       "<Figure size 432x288 with 1 Axes>"
      ]
     },
     "metadata": {
      "needs_background": "light"
     },
     "output_type": "display_data"
    }
   ],
   "source": [
    "min=0\n",
    "max=max_n\n",
    "\n",
    "x_index = np.full(max-min,range(min,max))\n",
    "y_value = converge_index[min:max]\n",
    "plt.scatter(x_index,y_value,c=\"g\",marker=\".\")\n",
    "plt.xlabel(\"Integer Value\")\n",
    "plt.ylabel(\"Cube each digit and converge\")\n",
    "\n",
    "plt.show()"
   ]
  },
  {
   "cell_type": "code",
   "execution_count": 184,
   "metadata": {},
   "outputs": [
    {
     "data": {
      "text/plain": [
       "10000000"
      ]
     },
     "execution_count": 184,
     "metadata": {},
     "output_type": "execute_result"
    }
   ],
   "source": [
    "converge_index.size"
   ]
  },
  {
   "cell_type": "code",
   "execution_count": 186,
   "metadata": {},
   "outputs": [
    {
     "data": {
      "text/plain": [
       "8"
      ]
     },
     "execution_count": 186,
     "metadata": {},
     "output_type": "execute_result"
    }
   ],
   "source": [
    "converge_index.itemsize"
   ]
  },
  {
   "cell_type": "code",
   "execution_count": null,
   "metadata": {},
   "outputs": [],
   "source": []
  }
 ],
 "metadata": {
  "kernelspec": {
   "display_name": "Python 3",
   "language": "python",
   "name": "python3"
  },
  "language_info": {
   "codemirror_mode": {
    "name": "ipython",
    "version": 3
   },
   "file_extension": ".py",
   "mimetype": "text/x-python",
   "name": "python",
   "nbconvert_exporter": "python",
   "pygments_lexer": "ipython3",
   "version": "3.7.4"
  }
 },
 "nbformat": 4,
 "nbformat_minor": 4
}
