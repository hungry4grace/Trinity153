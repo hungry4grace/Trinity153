{
 "cells": [
  {
   "cell_type": "code",
   "execution_count": 2,
   "metadata": {},
   "outputs": [
    {
     "name": "stdout",
     "output_type": "stream",
     "text": [
      "{153.0, 370.0, 371.0, 407.0}\n",
      "The following number converged to 153\n",
      "3\n",
      "6\n",
      "9\n",
      "12\n",
      "15\n",
      "18\n",
      "21\n",
      "24\n",
      "27\n",
      "30\n",
      "33\n",
      "36\n",
      "39\n",
      "42\n",
      "45\n",
      "48\n",
      "51\n",
      "54\n",
      "57\n",
      "60\n",
      "63\n",
      "66\n",
      "69\n",
      "72\n",
      "75\n",
      "78\n",
      "81\n",
      "84\n",
      "87\n",
      "90\n",
      "93\n",
      "96\n",
      "99\n",
      "The following number converged to 370\n",
      "7\n",
      "19\n",
      "34\n",
      "37\n",
      "43\n",
      "58\n",
      "67\n",
      "70\n",
      "73\n",
      "76\n",
      "85\n",
      "88\n",
      "91\n",
      "The following number converged to 371\n",
      "2\n",
      "5\n",
      "8\n",
      "11\n",
      "14\n",
      "17\n",
      "20\n",
      "23\n",
      "26\n",
      "29\n",
      "32\n",
      "35\n",
      "38\n",
      "41\n",
      "44\n",
      "50\n",
      "53\n",
      "56\n",
      "59\n",
      "62\n",
      "65\n",
      "68\n",
      "71\n",
      "80\n",
      "83\n",
      "86\n",
      "92\n",
      "95\n",
      "The following number converged to 407\n",
      "47\n",
      "74\n",
      "77\n",
      "89\n",
      "98\n",
      "End\n"
     ]
    },
    {
     "data": {
      "text/plain": [
       "'The smallest number to reach 153 in 16 cycles will be more than \\n1061042524005486968, so not advisable to try it. \\n'"
      ]
     },
     "execution_count": 2,
     "metadata": {},
     "output_type": "execute_result"
    }
   ],
   "source": [
    "import numpy as np\n",
    "import math\n",
    "\n",
    "max_n = 10**5\n",
    "converge_index = np.zeros(max_n) #like 153, 370, 371, 1\n",
    "converge_steps = np.zeros(max_n) #the number of steps to come to the convergence point\n",
    "pwr = 3\n",
    "\n",
    "def PowerUpAllDigits(n):\n",
    "    r = 0\n",
    "    for i in str(n):\n",
    "        # print(\"i=\", i, \"^3=\", Cubic(int(i)))\n",
    "        r += int(i) ** pwr\n",
    "    return (r)\n",
    "\n",
    "def theConverged (seq):\n",
    "    global max_n\n",
    "    converged_set = set()\n",
    "    for i in seq[seq > 1]:\n",
    "        converged_set.add(i)\n",
    "    print(converged_set)\n",
    "\n",
    "    while bool(converged_set):\n",
    "        i = converged_set.pop()\n",
    "        print(\"The following number converged to\",int(i))\n",
    "        for j in range(0, max_n):\n",
    "            if i==seq[j]:\n",
    "                print(j)\n",
    "\n",
    "\n",
    "def convertAllNum(s1, s2, max_steps):\n",
    "    global converge_index\n",
    "    global converge_values\n",
    "    i1 = int(s1)\n",
    "    i2 = int(s2)\n",
    "    for i in range(i1, i2):\n",
    "        steps = 1\n",
    "\n",
    "        j = PowerUpAllDigits(i)\n",
    "        prevj = j\n",
    "\n",
    "        while True:\n",
    "            steps = steps + 1\n",
    "            j = PowerUpAllDigits(j)\n",
    "            #print(\"Steps\", steps, \"=>\", j)\n",
    "            if j == prevj:\n",
    "                converge_index[i] = j\n",
    "                converge_steps[i] = steps-1\n",
    "                break\n",
    "\n",
    "            if steps > max_steps: \n",
    "                converge_steps[i] = 0\n",
    "                break\n",
    "            prevj = j\n",
    "\n",
    "convertAllNum(str(1), str(max_n), 30)\n",
    "\n",
    "theConverged(converge_index)\n",
    "\n",
    "\n",
    "#print(\"index:\", converge_index)\n",
    "#print(\"steps:\", converge_steps)\n",
    "\n",
    "'''Very large numbers\n",
    "main(str(9999**1000),\n",
    "     str(9999**1000)+\"100\",16)\n",
    "'''\n",
    "\n",
    "print(\"End\")\n",
    "\n",
    "'''The smallest number to reach 153 in 16 cycles will be more than \n",
    "1061042524005486968, so not advisable to try it. \n",
    "'''\n",
    "\n",
    "\n"
   ]
  },
  {
   "cell_type": "code",
   "execution_count": 8,
   "metadata": {},
   "outputs": [
    {
     "data": {
      "text/plain": [
       "33"
      ]
     },
     "execution_count": 8,
     "metadata": {},
     "output_type": "execute_result"
    }
   ],
   "source": [
    "converge_index[converge_index == 153].size"
   ]
  },
  {
   "cell_type": "code",
   "execution_count": 9,
   "metadata": {},
   "outputs": [
    {
     "data": {
      "text/plain": [
       "28"
      ]
     },
     "execution_count": 9,
     "metadata": {},
     "output_type": "execute_result"
    }
   ],
   "source": [
    "converge_index[converge_index == 371].size"
   ]
  },
  {
   "cell_type": "code",
   "execution_count": 10,
   "metadata": {},
   "outputs": [
    {
     "data": {
      "text/plain": [
       "13"
      ]
     },
     "execution_count": 10,
     "metadata": {},
     "output_type": "execute_result"
    }
   ],
   "source": [
    "converge_index[converge_index == 370].size"
   ]
  },
  {
   "cell_type": "code",
   "execution_count": 11,
   "metadata": {},
   "outputs": [
    {
     "data": {
      "text/plain": [
       "5"
      ]
     },
     "execution_count": 11,
     "metadata": {},
     "output_type": "execute_result"
    }
   ],
   "source": [
    "converge_index[converge_index == 407].size"
   ]
  },
  {
   "cell_type": "code",
   "execution_count": 12,
   "metadata": {},
   "outputs": [
    {
     "data": {
      "text/plain": [
       "19"
      ]
     },
     "execution_count": 12,
     "metadata": {},
     "output_type": "execute_result"
    }
   ],
   "source": [
    "converge_index[converge_index == 0].size"
   ]
  },
  {
   "cell_type": "code",
   "execution_count": 13,
   "metadata": {},
   "outputs": [
    {
     "data": {
      "text/plain": [
       "2"
      ]
     },
     "execution_count": 13,
     "metadata": {},
     "output_type": "execute_result"
    }
   ],
   "source": [
    "converge_index[converge_index == 1].size"
   ]
  },
  {
   "cell_type": "markdown",
   "metadata": {},
   "source": [
    "## Take the sum to show all numbers are counted:"
   ]
  },
  {
   "cell_type": "code",
   "execution_count": 14,
   "metadata": {},
   "outputs": [
    {
     "name": "stdout",
     "output_type": "stream",
     "text": [
      "{153.0, 370.0, 371.0, 407.0}\n",
      "There are 33 numbers that converge to 153\n",
      "There are 13 numbers that converge to 370\n",
      "There are 28 numbers that converge to 371\n",
      "There are 5 numbers that converge to 407\n"
     ]
    }
   ],
   "source": [
    "converged_set = set()\n",
    "for i in converge_index[converge_index > 1]:\n",
    "    converged_set.add(i)\n",
    "print(converged_set)\n",
    "for i in converged_set: \n",
    "    print(\"There are\",\n",
    "          converge_index[converge_index == i].size, \n",
    "          \"numbers that converge to\",int(i))"
   ]
  },
  {
   "cell_type": "markdown",
   "metadata": {},
   "source": [
    "### %matplotlib inline <= needed because we are doing this in the Jupyter lab, and we want it to display the plot inline"
   ]
  },
  {
   "cell_type": "code",
   "execution_count": 15,
   "metadata": {},
   "outputs": [
    {
     "data": {
      "image/png": "[encoded data removed]",
      "text/plain": [
       "<Figure size 432x288 with 1 Axes>"
      ]
     },
     "metadata": {
      "needs_background": "light"
     },
     "output_type": "display_data"
    }
   ],
   "source": [
    "import matplotlib.pyplot as plt\n",
    "%matplotlib inline\n",
    "min=0\n",
    "max=max_n\n",
    "x_index = np.full(max-min,range(min,max))\n",
    "y_value = converge_index[min:max]\n",
    "plt.scatter(x_index,y_value,c=\"g\",marker=\".\")\n",
    "plt.xlabel(\"Integer Value\")\n",
    "plt.ylabel(\"Cube each digit and converge\")\n",
    "\n",
    "plt.show()"
   ]
  },
  {
   "cell_type": "markdown",
   "metadata": {},
   "source": [
    "## When converge_index[i] == 0 means it does not converge, but diverge to infinity (actually we only let it try 30 steps)"
   ]
  },
  {
   "cell_type": "code",
   "execution_count": null,
   "metadata": {},
   "outputs": [],
   "source": []
  },
  {
   "cell_type": "code",
   "execution_count": null,
   "metadata": {},
   "outputs": [],
   "source": []
  }
 ],
 "metadata": {
  "kernelspec": {
   "display_name": "Python 3",
   "language": "python",
   "name": "python3"
  },
  "language_info": {
   "codemirror_mode": {
    "name": "ipython",
    "version": 3
   },
   "file_extension": ".py",
   "mimetype": "text/x-python",
   "name": "python",
   "nbconvert_exporter": "python",
   "pygments_lexer": "ipython3",
   "version": "3.7.4"
  }
 },
 "nbformat": 4,
 "nbformat_minor": 4
}
